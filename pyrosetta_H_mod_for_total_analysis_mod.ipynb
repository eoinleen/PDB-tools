{
  "nbformat": 4,
  "nbformat_minor": 0,
  "metadata": {
    "colab": {
      "provenance": [],
      "authorship_tag": "ABX9TyN0zheTO4MODIYy8hbgacYi",
      "include_colab_link": true
    },
    "kernelspec": {
      "name": "python3",
      "display_name": "Python 3"
    },
    "language_info": {
      "name": "python"
    },
    "widgets": {
      "application/vnd.jupyter.widget-state+json": {
        "0edf2fca13b44119aee0feb77a05f7fd": {
          "model_module": "@jupyter-widgets/controls",
          "model_name": "TextModel",
          "model_module_version": "1.5.0",
          "state": {
            "_dom_classes": [],
            "_model_module": "@jupyter-widgets/controls",
            "_model_module_version": "1.5.0",
            "_model_name": "TextModel",
            "_view_count": null,
            "_view_module": "@jupyter-widgets/controls",
            "_view_module_version": "1.5.0",
            "_view_name": "TextView",
            "continuous_update": true,
            "description": "Path:",
            "description_tooltip": null,
            "disabled": false,
            "layout": "IPY_MODEL_8d046cb006f947f3abbf6fd6ae599eae",
            "placeholder": "Enter the path to a PDB file or directory in Google Drive (e.g., /content/drive/MyDrive/pdb_files)",
            "style": "IPY_MODEL_a74e9905eb804665849517ea96ad018b",
            "value": "/content/drive/MyDrive/PDB-files/20250303-pdb-mod/1_bind_0_dldesign_0_af2pred.pdb"
          }
        },
        "8d046cb006f947f3abbf6fd6ae599eae": {
          "model_module": "@jupyter-widgets/base",
          "model_name": "LayoutModel",
          "model_module_version": "1.2.0",
          "state": {
            "_model_module": "@jupyter-widgets/base",
            "_model_module_version": "1.2.0",
            "_model_name": "LayoutModel",
            "_view_count": null,
            "_view_module": "@jupyter-widgets/base",
            "_view_module_version": "1.2.0",
            "_view_name": "LayoutView",
            "align_content": null,
            "align_items": null,
            "align_self": null,
            "border": null,
            "bottom": null,
            "display": null,
            "flex": null,
            "flex_flow": null,
            "grid_area": null,
            "grid_auto_columns": null,
            "grid_auto_flow": null,
            "grid_auto_rows": null,
            "grid_column": null,
            "grid_gap": null,
            "grid_row": null,
            "grid_template_areas": null,
            "grid_template_columns": null,
            "grid_template_rows": null,
            "height": null,
            "justify_content": null,
            "justify_items": null,
            "left": null,
            "margin": null,
            "max_height": null,
            "max_width": null,
            "min_height": null,
            "min_width": null,
            "object_fit": null,
            "object_position": null,
            "order": null,
            "overflow": null,
            "overflow_x": null,
            "overflow_y": null,
            "padding": null,
            "right": null,
            "top": null,
            "visibility": null,
            "width": "800px"
          }
        },
        "a74e9905eb804665849517ea96ad018b": {
          "model_module": "@jupyter-widgets/controls",
          "model_name": "DescriptionStyleModel",
          "model_module_version": "1.5.0",
          "state": {
            "_model_module": "@jupyter-widgets/controls",
            "_model_module_version": "1.5.0",
            "_model_name": "DescriptionStyleModel",
            "_view_count": null,
            "_view_module": "@jupyter-widgets/base",
            "_view_module_version": "1.2.0",
            "_view_name": "StyleView",
            "description_width": "initial"
          }
        },
        "881c02edaf924d69ab57f89db69cf486": {
          "model_module": "@jupyter-widgets/controls",
          "model_name": "RadioButtonsModel",
          "model_module_version": "1.5.0",
          "state": {
            "_dom_classes": [],
            "_model_module": "@jupyter-widgets/controls",
            "_model_module_version": "1.5.0",
            "_model_name": "RadioButtonsModel",
            "_options_labels": [
              "pdbtools (recommended)",
              "regex only"
            ],
            "_view_count": null,
            "_view_module": "@jupyter-widgets/controls",
            "_view_module_version": "1.5.0",
            "_view_name": "RadioButtonsView",
            "description": "Method:",
            "description_tooltip": null,
            "disabled": false,
            "index": 0,
            "layout": "IPY_MODEL_4a20533d29f94571b8c34f48691dead8",
            "style": "IPY_MODEL_e59bb14675894468ba0aeb29779573d5"
          }
        },
        "4a20533d29f94571b8c34f48691dead8": {
          "model_module": "@jupyter-widgets/base",
          "model_name": "LayoutModel",
          "model_module_version": "1.2.0",
          "state": {
            "_model_module": "@jupyter-widgets/base",
            "_model_module_version": "1.2.0",
            "_model_name": "LayoutModel",
            "_view_count": null,
            "_view_module": "@jupyter-widgets/base",
            "_view_module_version": "1.2.0",
            "_view_name": "LayoutView",
            "align_content": null,
            "align_items": null,
            "align_self": null,
            "border": null,
            "bottom": null,
            "display": null,
            "flex": null,
            "flex_flow": null,
            "grid_area": null,
            "grid_auto_columns": null,
            "grid_auto_flow": null,
            "grid_auto_rows": null,
            "grid_column": null,
            "grid_gap": null,
            "grid_row": null,
            "grid_template_areas": null,
            "grid_template_columns": null,
            "grid_template_rows": null,
            "height": null,
            "justify_content": null,
            "justify_items": null,
            "left": null,
            "margin": null,
            "max_height": null,
            "max_width": null,
            "min_height": null,
            "min_width": null,
            "object_fit": null,
            "object_position": null,
            "order": null,
            "overflow": null,
            "overflow_x": null,
            "overflow_y": null,
            "padding": null,
            "right": null,
            "top": null,
            "visibility": null,
            "width": null
          }
        },
        "e59bb14675894468ba0aeb29779573d5": {
          "model_module": "@jupyter-widgets/controls",
          "model_name": "DescriptionStyleModel",
          "model_module_version": "1.5.0",
          "state": {
            "_model_module": "@jupyter-widgets/controls",
            "_model_module_version": "1.5.0",
            "_model_name": "DescriptionStyleModel",
            "_view_count": null,
            "_view_module": "@jupyter-widgets/base",
            "_view_module_version": "1.2.0",
            "_view_name": "StyleView",
            "description_width": "initial"
          }
        },
        "25cff0270a3b4153bada9ec716927f5c": {
          "model_module": "@jupyter-widgets/controls",
          "model_name": "ButtonModel",
          "model_module_version": "1.5.0",
          "state": {
            "_dom_classes": [],
            "_model_module": "@jupyter-widgets/controls",
            "_model_module_version": "1.5.0",
            "_model_name": "ButtonModel",
            "_view_count": null,
            "_view_module": "@jupyter-widgets/controls",
            "_view_module_version": "1.5.0",
            "_view_name": "ButtonView",
            "button_style": "primary",
            "description": "Process PDB Files",
            "disabled": false,
            "icon": "",
            "layout": "IPY_MODEL_a38aac64dcd944a78c937ff4590082a3",
            "style": "IPY_MODEL_89654f0823d64039af77b7ecb208a1b3",
            "tooltip": "Click to process the PDB files"
          }
        },
        "a38aac64dcd944a78c937ff4590082a3": {
          "model_module": "@jupyter-widgets/base",
          "model_name": "LayoutModel",
          "model_module_version": "1.2.0",
          "state": {
            "_model_module": "@jupyter-widgets/base",
            "_model_module_version": "1.2.0",
            "_model_name": "LayoutModel",
            "_view_count": null,
            "_view_module": "@jupyter-widgets/base",
            "_view_module_version": "1.2.0",
            "_view_name": "LayoutView",
            "align_content": null,
            "align_items": null,
            "align_self": null,
            "border": null,
            "bottom": null,
            "display": null,
            "flex": null,
            "flex_flow": null,
            "grid_area": null,
            "grid_auto_columns": null,
            "grid_auto_flow": null,
            "grid_auto_rows": null,
            "grid_column": null,
            "grid_gap": null,
            "grid_row": null,
            "grid_template_areas": null,
            "grid_template_columns": null,
            "grid_template_rows": null,
            "height": null,
            "justify_content": null,
            "justify_items": null,
            "left": null,
            "margin": null,
            "max_height": null,
            "max_width": null,
            "min_height": null,
            "min_width": null,
            "object_fit": null,
            "object_position": null,
            "order": null,
            "overflow": null,
            "overflow_x": null,
            "overflow_y": null,
            "padding": null,
            "right": null,
            "top": null,
            "visibility": null,
            "width": null
          }
        },
        "89654f0823d64039af77b7ecb208a1b3": {
          "model_module": "@jupyter-widgets/controls",
          "model_name": "ButtonStyleModel",
          "model_module_version": "1.5.0",
          "state": {
            "_model_module": "@jupyter-widgets/controls",
            "_model_module_version": "1.5.0",
            "_model_name": "ButtonStyleModel",
            "_view_count": null,
            "_view_module": "@jupyter-widgets/base",
            "_view_module_version": "1.2.0",
            "_view_name": "StyleView",
            "button_color": null,
            "font_weight": ""
          }
        }
      }
    }
  },
  "cells": [
    {
      "cell_type": "markdown",
      "metadata": {
        "id": "view-in-github",
        "colab_type": "text"
      },
      "source": [
        "<a href=\"https://colab.research.google.com/github/eoinleen/PDB-tools/blob/main/pyrosetta_H_mod_for_total_analysis_mod.ipynb\" target=\"_parent\"><img src=\"https://colab.research.google.com/assets/colab-badge.svg\" alt=\"Open In Colab\"/></a>"
      ]
    },
    {
      "cell_type": "code",
      "execution_count": 2,
      "metadata": {
        "colab": {
          "base_uri": "https://localhost:8080/",
          "height": 300,
          "referenced_widgets": [
            "0edf2fca13b44119aee0feb77a05f7fd",
            "8d046cb006f947f3abbf6fd6ae599eae",
            "a74e9905eb804665849517ea96ad018b",
            "881c02edaf924d69ab57f89db69cf486",
            "4a20533d29f94571b8c34f48691dead8",
            "e59bb14675894468ba0aeb29779573d5",
            "25cff0270a3b4153bada9ec716927f5c",
            "a38aac64dcd944a78c937ff4590082a3",
            "89654f0823d64039af77b7ecb208a1b3"
          ]
        },
        "id": "DM94VmiMMzXD",
        "outputId": "1e2f0d87-1661-4403-f019-4d94a1a78dd8"
      },
      "outputs": [
        {
          "output_type": "stream",
          "name": "stdout",
          "text": [
            "Drive already mounted at /content/drive; to attempt to forcibly remount, call drive.mount(\"/content/drive\", force_remount=True).\n",
            "\u001b[31mERROR: Could not find a version that satisfies the requirement pdbtools (from versions: none)\u001b[0m\u001b[31m\n",
            "\u001b[0m\u001b[31mERROR: No matching distribution found for pdbtools\u001b[0m\u001b[31m\n",
            "\u001b[0mPDB Hydrogen Naming Fix Tool\n",
            "----------------------------\n",
            "This tool will fix hydrogen atom naming in PDB files to make them compatible with interface analysis scripts.\n",
            "The fixed files will be saved in the same directory with 'mod_' prefix.\n"
          ]
        },
        {
          "output_type": "display_data",
          "data": {
            "text/plain": [
              "Text(value='', description='Path:', layout=Layout(width='800px'), placeholder='Enter the path to a PDB file or…"
            ],
            "application/vnd.jupyter.widget-view+json": {
              "version_major": 2,
              "version_minor": 0,
              "model_id": "0edf2fca13b44119aee0feb77a05f7fd"
            }
          },
          "metadata": {}
        },
        {
          "output_type": "display_data",
          "data": {
            "text/plain": [
              "RadioButtons(description='Method:', options=('pdbtools (recommended)', 'regex only'), style=DescriptionStyle(d…"
            ],
            "application/vnd.jupyter.widget-view+json": {
              "version_major": 2,
              "version_minor": 0,
              "model_id": "881c02edaf924d69ab57f89db69cf486"
            }
          },
          "metadata": {}
        },
        {
          "output_type": "display_data",
          "data": {
            "text/plain": [
              "Button(button_style='primary', description='Process PDB Files', style=ButtonStyle(), tooltip='Click to process…"
            ],
            "application/vnd.jupyter.widget-view+json": {
              "version_major": 2,
              "version_minor": 0,
              "model_id": "25cff0270a3b4153bada9ec716927f5c"
            }
          },
          "metadata": {}
        },
        {
          "output_type": "stream",
          "name": "stdout",
          "text": [
            "Processing file: 1_bind_0_dldesign_0_af2pred.pdb\n",
            "PDB file converted using regex and saved as /content/drive/MyDrive/PDB-files/20250303-pdb-mod/mod_1_bind_0_dldesign_0_af2pred.pdb\n"
          ]
        }
      ],
      "source": [
        "\"\"\"\n",
        "#########################################################\n",
        "# PDB HYDROGEN NAMING FIX TOOL - SIMPLE INSTRUCTIONS\n",
        "#########################################################\n",
        "#\n",
        "# WHAT THIS DOES:\n",
        "# This tool fixes hydrogen atom names in PDB files\n",
        "# (changes format like \"1H\" to \"H1\" to meet standard conventions)\n",
        "#\n",
        "# HOW TO USE (SUPER SIMPLE):\n",
        "# 1. Run this notebook in Google Colab (press play button)\n",
        "# 2. Allow access to your Google Drive when prompted\n",
        "# 3. A text box will appear - paste your file path there\n",
        "#    Example: /content/drive/MyDrive/my_protein.pdb\n",
        "# 4. Click the \"Process PDB Files\" button\n",
        "# 5. Your fixed file will be saved with \"mod_\" prefix\n",
        "#    Example: mod_my_protein.pdb\n",
        "#\n",
        "# NOTES FOR BEGINNERS:\n",
        "# - Your Google Drive will be connected at: /content/drive\n",
        "# - You can process a single file or a whole folder of PDB files\n",
        "# - Fixed files are saved in the same location as originals\n",
        "#\n",
        "#########################################################\n",
        "\"\"\"\n",
        "\n",
        "# PDB Hydrogen Naming Fix Script for Google Colab\n",
        "# This script fixes hydrogen atom naming conventions in PDB files\n",
        "\n",
        "import os\n",
        "import re\n",
        "import subprocess\n",
        "import tempfile\n",
        "from google.colab import drive\n",
        "from google.colab import files\n",
        "import ipywidgets as widgets\n",
        "from IPython.display import display\n",
        "\n",
        "# Mount Google Drive\n",
        "drive.mount('/content/drive')\n",
        "\n",
        "# Install pdbtools if not already installed\n",
        "!pip install -q pdbtools\n",
        "\n",
        "def fix_hydrogen_naming_regex(input_file, output_file):\n",
        "    \"\"\"Fix hydrogen atom naming using regex pattern matching\"\"\"\n",
        "    with open(input_file, 'r') as f:\n",
        "        content = f.read()\n",
        "\n",
        "    # Replace terminal hydrogens (1H, 2H, 3H)\n",
        "    # This addresses the most common problematic pattern\n",
        "    pattern1 = r'(ATOM\\s+\\d+\\s+)1H(\\s+)'\n",
        "    pattern2 = r'(ATOM\\s+\\d+\\s+)2H(\\s+)'\n",
        "    pattern3 = r'(ATOM\\s+\\d+\\s+)3H(\\s+)'\n",
        "\n",
        "    content = re.sub(pattern1, r'\\1H1\\2', content)\n",
        "    content = re.sub(pattern2, r'\\1H2\\2', content)\n",
        "    content = re.sub(pattern3, r'\\1H3\\2', content)\n",
        "\n",
        "    with open(output_file, 'w') as f:\n",
        "        f.write(content)\n",
        "\n",
        "    print(f\"PDB file converted using regex and saved as {output_file}\")\n",
        "\n",
        "def fix_hydrogen_naming_pdbtools(input_file, output_file):\n",
        "    \"\"\"Fix hydrogen atom naming using pdbtools\"\"\"\n",
        "    try:\n",
        "        # Create a temporary file\n",
        "        fd, temp_path = tempfile.mkstemp(suffix='.pdb')\n",
        "        os.close(fd)\n",
        "\n",
        "        # Run pdbtools to standardize atom names\n",
        "        subprocess.run(f'pdb_reatom {input_file} > {temp_path}', shell=True, check=True)\n",
        "\n",
        "        # Copy the temporary file to the final destination\n",
        "        with open(temp_path, 'r') as src, open(output_file, 'w') as dst:\n",
        "            dst.write(src.read())\n",
        "\n",
        "        # Remove the temporary file\n",
        "        os.remove(temp_path)\n",
        "        print(f\"PDB file converted using pdbtools and saved as {output_file}\")\n",
        "\n",
        "    except Exception as e:\n",
        "        print(f\"Error using pdbtools: {str(e)}\")\n",
        "        print(\"Falling back to regex method...\")\n",
        "        fix_hydrogen_naming_regex(input_file, output_file)\n",
        "\n",
        "def process_files():\n",
        "    # Get user-specified path\n",
        "    file_path = path_widget.value\n",
        "\n",
        "    if not file_path:\n",
        "        print(\"Please enter a valid file or directory path.\")\n",
        "        return\n",
        "\n",
        "    file_path = os.path.expanduser(file_path)\n",
        "\n",
        "    # Check if the path is a directory or a file\n",
        "    if os.path.isdir(file_path):\n",
        "        # Process all PDB files in the directory\n",
        "        pdb_files = [f for f in os.listdir(file_path) if f.endswith('.pdb')]\n",
        "\n",
        "        if not pdb_files:\n",
        "            print(f\"No PDB files found in {file_path}\")\n",
        "            return\n",
        "\n",
        "        print(f\"Found {len(pdb_files)} PDB files in {file_path}\")\n",
        "\n",
        "        for idx, file_name in enumerate(pdb_files, 1):\n",
        "            input_file = os.path.join(file_path, file_name)\n",
        "            output_file = os.path.join(file_path, f\"mod_{file_name}\")\n",
        "            print(f\"Processing file {idx}/{len(pdb_files)}: {file_name}\")\n",
        "\n",
        "            if method_widget.value == \"pdbtools\":\n",
        "                fix_hydrogen_naming_pdbtools(input_file, output_file)\n",
        "            else:\n",
        "                fix_hydrogen_naming_regex(input_file, output_file)\n",
        "\n",
        "    elif os.path.isfile(file_path) and file_path.endswith('.pdb'):\n",
        "        # Process a single PDB file\n",
        "        dir_path = os.path.dirname(file_path)\n",
        "        file_name = os.path.basename(file_path)\n",
        "        output_file = os.path.join(dir_path, f\"mod_{file_name}\")\n",
        "\n",
        "        print(f\"Processing file: {file_name}\")\n",
        "\n",
        "        if method_widget.value == \"pdbtools\":\n",
        "            fix_hydrogen_naming_pdbtools(file_path, output_file)\n",
        "        else:\n",
        "            fix_hydrogen_naming_regex(file_path, output_file)\n",
        "\n",
        "    else:\n",
        "        print(\"The specified path is not a valid PDB file or directory containing PDB files.\")\n",
        "\n",
        "# Create widgets for the UI\n",
        "path_widget = widgets.Text(\n",
        "    value='',\n",
        "    placeholder='Enter the path to a PDB file or directory in Google Drive (e.g., /content/drive/MyDrive/pdb_files)',\n",
        "    description='Path:',\n",
        "    style={'description_width': 'initial'},\n",
        "    layout={'width': '800px'}\n",
        ")\n",
        "\n",
        "method_widget = widgets.RadioButtons(\n",
        "    options=['pdbtools (recommended)', 'regex only'],\n",
        "    value='pdbtools (recommended)',\n",
        "    description='Method:',\n",
        "    style={'description_width': 'initial'}\n",
        ")\n",
        "\n",
        "process_button = widgets.Button(\n",
        "    description='Process PDB Files',\n",
        "    button_style='primary',\n",
        "    tooltip='Click to process the PDB files'\n",
        ")\n",
        "\n",
        "# Set up the button click handler\n",
        "process_button.on_click(lambda b: process_files())\n",
        "\n",
        "# Display the UI\n",
        "print(\"PDB Hydrogen Naming Fix Tool\")\n",
        "print(\"----------------------------\")\n",
        "print(\"This tool will fix hydrogen atom naming in PDB files to make them compatible with interface analysis scripts.\")\n",
        "print(\"The fixed files will be saved in the same directory with 'mod_' prefix.\")\n",
        "display(path_widget)\n",
        "display(method_widget)\n",
        "display(process_button)"
      ]
    },
    {
      "cell_type": "code",
      "source": [],
      "metadata": {
        "id": "_3vdggLLRoPv"
      },
      "execution_count": 2,
      "outputs": []
    },
    {
      "cell_type": "code",
      "source": [
        "from google.colab import drive\n",
        "drive.mount('/content/drive')"
      ],
      "metadata": {
        "colab": {
          "base_uri": "https://localhost:8080/"
        },
        "id": "nT1MMVF7OoA6",
        "outputId": "9790a351-8c92-4f72-e912-217df144b7db"
      },
      "execution_count": 3,
      "outputs": [
        {
          "output_type": "stream",
          "name": "stdout",
          "text": [
            "Drive already mounted at /content/drive; to attempt to forcibly remount, call drive.mount(\"/content/drive\", force_remount=True).\n"
          ]
        }
      ]
    }
  ]
}